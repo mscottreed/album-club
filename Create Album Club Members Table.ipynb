{
 "cells": [
  {
   "cell_type": "code",
   "execution_count": 0,
   "metadata": {
    "application/vnd.databricks.v1+cell": {
     "cellMetadata": {
      "byteLimit": 2048000,
      "implicitDf": true,
      "rowLimit": 10000
     },
     "inputWidgets": {},
     "nuid": "cf07063b-8b51-40c9-a2b8-a630a65c2a99",
     "showTitle": false,
     "tableResultSettingsMap": {},
     "title": ""
    }
   },
   "outputs": [],
   "source": [
    "%sql\n",
    "select current_catalog()"
   ]
  },
  {
   "cell_type": "code",
   "execution_count": 0,
   "metadata": {
    "application/vnd.databricks.v1+cell": {
     "cellMetadata": {
      "byteLimit": 2048000,
      "rowLimit": 10000
     },
     "inputWidgets": {},
     "nuid": "6616a121-022e-4212-851f-8f942c07535a",
     "showTitle": false,
     "tableResultSettingsMap": {},
     "title": ""
    }
   },
   "outputs": [],
   "source": [
    "%python\n",
    "# 1. Read the CSV files from the volume into a Spark DataFrame\n",
    "df = (spark\n",
    "      .read\n",
    "      .format(\"csv\")\n",
    "      .option(\"header\", \"true\")\n",
    "      .option(\"inferSchema\", \"true\")\n",
    "      .load(\"/Volumes/workspace/music/album-club-members/AlbumClubMembers.csv\")\n",
    "    )\n",
    "\n",
    "# 2. Write to the DataFrame to a Delta table (overwrite the table if it exists)\n",
    "(df\n",
    " .write\n",
    " .mode(\"overwrite\")\n",
    " .saveAsTable(f\"workspace.music.bronze_album_club_members\")\n",
    ")\n",
    "\n",
    "\n",
    "## 3. Read and view the table\n",
    "users_bronze_table = spark.table(f\"workspace.music.bronze_album_club_members\")\n",
    "users_bronze_table.display()"
   ]
  },
  {
   "cell_type": "code",
   "execution_count": 0,
   "metadata": {
    "application/vnd.databricks.v1+cell": {
     "cellMetadata": {
      "byteLimit": 2048000,
      "implicitDf": true,
      "rowLimit": 10000
     },
     "inputWidgets": {},
     "nuid": "a83538f6-34c9-4abd-99bb-9eb42e7240ed",
     "showTitle": false,
     "tableResultSettingsMap": {},
     "title": ""
    }
   },
   "outputs": [],
   "source": [
    "%sql\n",
    "-- Drop the table if it exists for demonstration purposes\n",
    "DROP TABLE IF EXISTS workspace.music.bronze_album_club_members;\n",
    "\n",
    "\n",
    "-- Create an empty table without the specified schema\n",
    "CREATE TABLE workspace.music.bronze_album_club_members;\n",
    "\n",
    "\n",
    "-- Use COPY INTO to populate Delta table\n",
    "COPY INTO workspace.music.bronze_album_club_members\n",
    "  FROM '/Volumes/workspace/music/album-club-members/AlbumClubMembers.csv'\n",
    "  FILEFORMAT = csv\n",
    "  FORMAT_OPTIONS ('header' = 'true', 'inferSchema' = 'true')\n",
    "  COPY_OPTIONS ('mergeSchema' = 'true');"
   ]
  }
 ],
 "metadata": {
  "application/vnd.databricks.v1+notebook": {
   "computePreferences": {
    "hardware": {
     "accelerator": null,
     "gpuPoolId": null,
     "memory": null
    }
   },
   "dashboards": [],
   "environmentMetadata": {
    "base_environment": "",
    "environment_version": "3"
   },
   "inputWidgetPreferences": null,
   "language": "python",
   "notebookMetadata": {
    "mostRecentlyExecutedCommandWithImplicitDF": {
     "commandId": 7179272126126075,
     "dataframes": [
      "_sqldf"
     ]
    },
    "pythonIndentUnit": 4
   },
   "notebookName": "Create Album Club Members Table",
   "widgets": {}
  },
  "language_info": {
   "name": "python"
  }
 },
 "nbformat": 4,
 "nbformat_minor": 0
}
