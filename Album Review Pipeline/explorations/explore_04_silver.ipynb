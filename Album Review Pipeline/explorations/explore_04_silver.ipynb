{
 "cells": [
  {
   "cell_type": "code",
   "execution_count": 0,
   "metadata": {
    "application/vnd.databricks.v1+cell": {
     "cellMetadata": {
      "byteLimit": 2048000,
      "implicitDf": true,
      "rowLimit": 10000
     },
     "inputWidgets": {},
     "nuid": "6d98c8e5-4732-4383-a396-14faa3e7effc",
     "showTitle": false,
     "tableResultSettingsMap": {},
     "title": ""
    }
   },
   "outputs": [],
   "source": [
    "%sql\n",
    "select * from music.silver_album as album\n",
    "join music.silver_artist as artist on album.artist_id = artist.id\n",
    "limit 10"
   ]
  },
  {
   "cell_type": "code",
   "execution_count": 0,
   "metadata": {
    "application/vnd.databricks.v1+cell": {
     "cellMetadata": {
      "byteLimit": 2048000,
      "implicitDf": true,
      "rowLimit": 10000
     },
     "inputWidgets": {},
     "nuid": "1b1deb43-68c2-42b5-adf0-cfbf4948b66d",
     "showTitle": false,
     "tableResultSettingsMap": {},
     "title": ""
    }
   },
   "outputs": [],
   "source": [
    "%sql\n",
    "select * from music.silver_song as song\n",
    "join music.silver_album as album on song.album_id = album.id\n",
    "join music.silver_artist as artist on album.artist_id = artist.id\n",
    "limit 50"
   ]
  },
  {
   "cell_type": "code",
   "execution_count": 0,
   "metadata": {
    "application/vnd.databricks.v1+cell": {
     "cellMetadata": {
      "byteLimit": 2048000,
      "implicitDf": true,
      "rowLimit": 10000
     },
     "inputWidgets": {},
     "nuid": "517185b3-1f55-44f2-98b9-538ad44639e0",
     "showTitle": false,
     "tableResultSettingsMap": {},
     "title": ""
    }
   },
   "outputs": [],
   "source": [
    "%sql\n",
    "select * from music.silver_album_club_member"
   ]
  },
  {
   "cell_type": "code",
   "execution_count": 0,
   "metadata": {
    "application/vnd.databricks.v1+cell": {
     "cellMetadata": {
      "byteLimit": 2048000,
      "implicitDf": true,
      "rowLimit": 10000
     },
     "inputWidgets": {},
     "nuid": "09b3880e-cb14-45d8-94cd-9ce210e9dba9",
     "showTitle": false,
     "tableResultSettingsMap": {},
     "title": ""
    }
   },
   "outputs": [],
   "source": [
    "%sql\n",
    "select * from music.silver_member_rating"
   ]
  },
  {
   "cell_type": "code",
   "execution_count": 0,
   "metadata": {
    "application/vnd.databricks.v1+cell": {
     "cellMetadata": {
      "byteLimit": 2048000,
      "implicitDf": true,
      "rowLimit": 10000
     },
     "inputWidgets": {},
     "nuid": "46ad231f-f9f9-4b4d-86ac-4824ff86e107",
     "showTitle": false,
     "tableResultSettingsMap": {},
     "title": ""
    }
   },
   "outputs": [],
   "source": [
    "%sql\n",
    "--select count(*) from music.bronze_member_rating;\n",
    "--780\n",
    "select count(*) from music.silver_member_rating;\n",
    "--767"
   ]
  },
  {
   "cell_type": "code",
   "execution_count": 0,
   "metadata": {
    "application/vnd.databricks.v1+cell": {
     "cellMetadata": {
      "byteLimit": 2048000,
      "implicitDf": true,
      "rowLimit": 10000
     },
     "inputWidgets": {},
     "nuid": "ac74c888-188e-4959-a045-5f7c68fd5d52",
     "showTitle": false,
     "tableResultSettingsMap": {},
     "title": ""
    }
   },
   "outputs": [],
   "source": [
    "%sql\n",
    "select member_id, count(*) from music.silver_member_rating\n",
    "group by member_id"
   ]
  },
  {
   "cell_type": "code",
   "execution_count": 0,
   "metadata": {
    "application/vnd.databricks.v1+cell": {
     "cellMetadata": {
      "byteLimit": 2048000,
      "rowLimit": 10000
     },
     "inputWidgets": {},
     "nuid": "a7bf55bc-e9bb-4d08-8b8b-faa32f019013",
     "showTitle": false,
     "tableResultSettingsMap": {},
     "title": ""
    }
   },
   "outputs": [],
   "source": [
    "bronze_df = spark.table(\"workspace.music.bronze_member_rating\")\n",
    "silver_df = spark.table(\"workspace.music.silver_member_rating\")\n",
    "silver_member_df = spark.table(\"workspace.music.silver_album_club_member\")\n",
    "\n",
    "# Join silver_df with silver_member_df on member names\n",
    "silver_df = silver_df.join(\n",
    "    silver_member_df,\n",
    "    silver_df[\"member_id\"] == silver_member_df[\"id\"],\n",
    "    \"inner\"\n",
    ")\n",
    "silver_df = silver_df.withColumnRenamed(\"short_name\", \"member_name\")\n",
    "bronze_df = bronze_df.withColumnRenamed(\"member\", \"member_name\")\n",
    "\n",
    "missing_rows_df = bronze_df.join(\n",
    "    silver_df,\n",
    "    on=[\"week_number\", \"meeting_date\", \"member_name\"],\n",
    "    how=\"left_anti\"\n",
    ")"
   ]
  },
  {
   "cell_type": "code",
   "execution_count": 0,
   "metadata": {
    "application/vnd.databricks.v1+cell": {
     "cellMetadata": {
      "byteLimit": 2048000,
      "rowLimit": 10000
     },
     "inputWidgets": {},
     "nuid": "d2adc020-63e5-47be-a368-079494d70a6c",
     "showTitle": false,
     "tableResultSettingsMap": {},
     "title": ""
    }
   },
   "outputs": [],
   "source": [
    "from pyspark.sql.functions import count\n",
    "\n",
    "missing_rows_grouped_df = missing_rows_df.groupBy(\"album_name\").agg(count(\"*\").alias(\"count\"))\n",
    "display(missing_rows_grouped_df)"
   ]
  },
  {
   "cell_type": "code",
   "execution_count": 0,
   "metadata": {
    "application/vnd.databricks.v1+cell": {
     "cellMetadata": {
      "byteLimit": 2048000,
      "rowLimit": 10000
     },
     "inputWidgets": {},
     "nuid": "9de89df6-a49f-4ae8-a385-54785d8daa7e",
     "showTitle": false,
     "tableResultSettingsMap": {},
     "title": ""
    }
   },
   "outputs": [],
   "source": [
    "silver_album_df = spark.table(\"workspace.music.silver_album\")\n",
    "\n",
    "# Join silver_df with silver_album_df on album id\n",
    "silver_df_w_albums = silver_df.join(\n",
    "    silver_album_df,\n",
    "    silver_df[\"album_id\"] == silver_album_df[\"id\"],\n",
    "    \"inner\"\n",
    ").drop(silver_album_df[\"id\"])\n",
    "\n",
    "# display(silver_df_w_albums)\n",
    "display(silver_df_w_albums.filter(col(\"name\").ilike(\"%blond%\")))"
   ]
  },
  {
   "cell_type": "code",
   "execution_count": 0,
   "metadata": {
    "application/vnd.databricks.v1+cell": {
     "cellMetadata": {
      "byteLimit": 2048000,
      "implicitDf": true,
      "rowLimit": 10000
     },
     "inputWidgets": {},
     "nuid": "ccc09bf6-7e04-4f67-9b3d-3c064fe41013",
     "showTitle": false,
     "tableResultSettingsMap": {},
     "title": ""
    }
   },
   "outputs": [],
   "source": [
    "%sql\n",
    "select * from music.bronze_album al where al.album_name like '%Born%Die%'"
   ]
  },
  {
   "cell_type": "code",
   "execution_count": 0,
   "metadata": {
    "application/vnd.databricks.v1+cell": {
     "cellMetadata": {
      "byteLimit": 2048000,
      "implicitDf": true,
      "rowLimit": 10000
     },
     "inputWidgets": {},
     "nuid": "b78a5b25-19af-40e1-aba9-e9342c0c37cc",
     "showTitle": false,
     "tableResultSettingsMap": {},
     "title": ""
    }
   },
   "outputs": [],
   "source": [
    "%sql\n",
    "select * from music.bronze_member_rating al where al.album_name like '%Born%Die%'"
   ]
  },
  {
   "cell_type": "code",
   "execution_count": 0,
   "metadata": {
    "application/vnd.databricks.v1+cell": {
     "cellMetadata": {
      "byteLimit": 2048000,
      "implicitDf": true,
      "rowLimit": 10000
     },
     "inputWidgets": {},
     "nuid": "c74e2568-3ce3-4f9c-ab47-da5aa628e7d8",
     "showTitle": false,
     "tableResultSettingsMap": {},
     "title": ""
    }
   },
   "outputs": [],
   "source": [
    "%sql\n",
    "update music.bronze_member_rating\n",
    "set album_name = 'Born to Die' where album_name = 'Born To Die'"
   ]
  }
 ],
 "metadata": {
  "application/vnd.databricks.v1+notebook": {
   "computePreferences": null,
   "dashboards": [],
   "environmentMetadata": {
    "base_environment": "",
    "environment_version": "3"
   },
   "inputWidgetPreferences": null,
   "language": "python",
   "notebookMetadata": {
    "mostRecentlyExecutedCommandWithImplicitDF": {
     "commandId": 7692020753072233,
     "dataframes": [
      "_sqldf"
     ]
    },
    "pythonIndentUnit": 4
   },
   "notebookName": "explore_04_silver",
   "widgets": {}
  },
  "language_info": {
   "name": "python"
  }
 },
 "nbformat": 4,
 "nbformat_minor": 0
}
