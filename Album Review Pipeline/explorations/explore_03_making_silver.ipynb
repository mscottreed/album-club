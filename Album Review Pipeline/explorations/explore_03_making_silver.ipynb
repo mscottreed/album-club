{
 "cells": [
  {
   "cell_type": "code",
   "execution_count": 0,
   "metadata": {
    "application/vnd.databricks.v1+cell": {
     "cellMetadata": {
      "byteLimit": 2048000,
      "rowLimit": 10000
     },
     "inputWidgets": {},
     "nuid": "6980674f-e963-4459-b04f-7ce2dfacff48",
     "showTitle": false,
     "tableResultSettingsMap": {},
     "title": ""
    }
   },
   "outputs": [],
   "source": [
    "from pyspark.sql.functions import col, row_number\n",
    "from pyspark.sql.window import Window\n",
    "\n",
    "bronze_album_df = spark.read.table(\"music.bronze_album\")\n",
    "silver_data = (\n",
    "    bronze_album_df\n",
    "    .select(\"artist\")\n",
    "    .distinct()\n",
    "    .withColumnRenamed(\"artist\", \"name\")\n",
    ")\n",
    "window_spec = Window.orderBy(\"name\")\n",
    "silver_artist_df = silver_data.withColumn(\"id\", \n",
    "    row_number().over(window_spec).cast(\"long\"))\n",
    "\n",
    "silver_artist_df = silver_artist_df.select(\"id\", \"name\")"
   ]
  },
  {
   "cell_type": "code",
   "execution_count": 0,
   "metadata": {
    "application/vnd.databricks.v1+cell": {
     "cellMetadata": {
      "byteLimit": 2048000,
      "rowLimit": 10000
     },
     "inputWidgets": {},
     "nuid": "fb11b1d4-3ff0-47cd-9d08-b1e5a2c159f2",
     "showTitle": false,
     "tableResultSettingsMap": {
      "0": {
       "dataGridStateBlob": "{\"version\":1,\"tableState\":{\"columnPinning\":{\"left\":[\"#row_number#\"],\"right\":[]},\"columnSizing\":{},\"columnVisibility\":{}},\"settings\":{\"columns\":{}},\"syncTimestamp\":1756515088649}",
       "filterBlob": null,
       "queryPlanFiltersBlob": null,
       "tableResultIndex": 0
      }
     },
     "title": ""
    }
   },
   "outputs": [],
   "source": [
    "display(silver_artist_df.limit(5))"
   ]
  },
  {
   "cell_type": "code",
   "execution_count": 0,
   "metadata": {
    "application/vnd.databricks.v1+cell": {
     "cellMetadata": {
      "byteLimit": 2048000,
      "rowLimit": 10000
     },
     "inputWidgets": {},
     "nuid": "ce6b6666-2fb0-4ade-9fa0-b10060a2c174",
     "showTitle": false,
     "tableResultSettingsMap": {},
     "title": ""
    }
   },
   "outputs": [],
   "source": [
    "bronze_album_df = spark.read.table(\"music.bronze_album\")\n",
    "display(bronze_album_df.select(\"release_date\").limit(50))"
   ]
  },
  {
   "cell_type": "code",
   "execution_count": 0,
   "metadata": {
    "application/vnd.databricks.v1+cell": {
     "cellMetadata": {
      "byteLimit": 2048000,
      "rowLimit": 10000
     },
     "inputWidgets": {},
     "nuid": "40bbafe0-1b29-4bca-a87e-c94d7586a6ab",
     "showTitle": false,
     "tableResultSettingsMap": {},
     "title": ""
    }
   },
   "outputs": [],
   "source": [
    "from pyspark.sql.window import Window\n",
    "from pyspark.sql.functions import coalesce, col, row_number, to_date, when, year\n",
    "\n",
    "bronze_album_df = spark.read.table(\"music.bronze_album\")\n",
    "\n",
    "window_spec = Window.partitionBy(\"artist\", \"album_name\").orderBy(\"release_date\")\n",
    "distinct_album_df = (\n",
    "    bronze_album_df\n",
    "    .withColumn(\"row_num\", row_number().over(window_spec))\n",
    "    .filter(col(\"row_num\") == 1)\n",
    ")\n",
    "\n",
    "silver_album_df = (\n",
    "    distinct_album_df\n",
    "    .join(\n",
    "        silver_artist_df,\n",
    "        distinct_album_df[\"artist\"] == silver_artist_df[\"name\"],\n",
    "        \"left\"\n",
    "    )\n",
    "    .select(\n",
    "        distinct_album_df[\"id\"],\n",
    "        silver_artist_df[\"id\"].alias(\"artist_id\"),\n",
    "        distinct_album_df[\"album_name\"].alias(\"name\"),\n",
    "        distinct_album_df[\"release_year\"],\n",
    "        distinct_album_df[\"release_date\"],\n",
    "    )\n",
    ")\n",
    "\n",
    "display(silver_album_df.limit(5))"
   ]
  },
  {
   "cell_type": "code",
   "execution_count": 0,
   "metadata": {
    "application/vnd.databricks.v1+cell": {
     "cellMetadata": {
      "byteLimit": 2048000,
      "rowLimit": 10000
     },
     "inputWidgets": {},
     "nuid": "f605adc3-fee9-49d2-a6b0-d1e43851106b",
     "showTitle": false,
     "tableResultSettingsMap": {},
     "title": ""
    }
   },
   "outputs": [],
   "source": [
    "null_artist_id_count = silver_album_df.filter(col(\"artist_id\").isNull()).count()\n",
    "null_artist_id_count"
   ]
  },
  {
   "cell_type": "code",
   "execution_count": 0,
   "metadata": {
    "application/vnd.databricks.v1+cell": {
     "cellMetadata": {
      "byteLimit": 2048000,
      "rowLimit": 10000
     },
     "inputWidgets": {},
     "nuid": "ddcf1d2b-56ce-478b-be12-aa8920cf76f0",
     "showTitle": false,
     "tableResultSettingsMap": {},
     "title": ""
    }
   },
   "outputs": [],
   "source": [
    "bronze_song_df = spark.read.table(\"music.bronze_song\")\n",
    "silver_song_df = bronze_song_df.join(\n",
    "    silver_album_df,\n",
    "    bronze_song_df.album_number == silver_album_df.id\n",
    ").select(\n",
    "    silver_album_df.artist_id,\n",
    "    silver_album_df.id.alias(\"album_id\"),\n",
    "    bronze_song_df.name,\n",
    "    bronze_song_df.track_number\n",
    ")\n"
   ]
  },
  {
   "cell_type": "code",
   "execution_count": 0,
   "metadata": {
    "application/vnd.databricks.v1+cell": {
     "cellMetadata": {
      "byteLimit": 2048000,
      "rowLimit": 10000
     },
     "inputWidgets": {},
     "nuid": "805dd7d5-04ae-4202-b769-b4e15d5328ad",
     "showTitle": false,
     "tableResultSettingsMap": {},
     "title": ""
    }
   },
   "outputs": [],
   "source": [
    "from pyspark.sql.window import Window\n",
    "from pyspark.sql.functions import row_number\n",
    "\n",
    "window_spec = Window.orderBy(\"artist_id\", \"album_id\", \"track_number\")\n",
    "silver_song_df = silver_song_df.withColumn(\"id\", row_number().over(window_spec))\n",
    "\n",
    "silver_song_df = silver_song_df.select(\"id\", \"artist_id\", \"album_id\", \"name\", \"track_number\")\n",
    "\n",
    "display(silver_song_df.limit(15))"
   ]
  },
  {
   "cell_type": "code",
   "execution_count": 0,
   "metadata": {
    "application/vnd.databricks.v1+cell": {
     "cellMetadata": {
      "byteLimit": 2048000,
      "rowLimit": 10000
     },
     "inputWidgets": {},
     "nuid": "ddf8a97d-38b7-47f7-a598-a89952196332",
     "showTitle": false,
     "tableResultSettingsMap": {},
     "title": ""
    }
   },
   "outputs": [],
   "source": [
    "silver_member_df = spark.read.table(\"music.silver_album_club_member\")"
   ]
  },
  {
   "cell_type": "code",
   "execution_count": 0,
   "metadata": {
    "application/vnd.databricks.v1+cell": {
     "cellMetadata": {
      "byteLimit": 2048000,
      "implicitDf": true,
      "rowLimit": 10000
     },
     "inputWidgets": {},
     "nuid": "2e370f46-3a0e-49f0-a53b-14b2195fdd93",
     "showTitle": false,
     "tableResultSettingsMap": {},
     "title": ""
    }
   },
   "outputs": [],
   "source": [
    "display(silver_member_df)"
   ]
  },
  {
   "cell_type": "code",
   "execution_count": 0,
   "metadata": {
    "application/vnd.databricks.v1+cell": {
     "cellMetadata": {
      "byteLimit": 2048000,
      "rowLimit": 10000
     },
     "inputWidgets": {},
     "nuid": "f55c224a-fd06-4472-b47a-d688b1932e7d",
     "showTitle": false,
     "tableResultSettingsMap": {},
     "title": ""
    }
   },
   "outputs": [],
   "source": [
    "silver_album_df = spark.read.table(\"music.silver_album\")\n",
    "display(silver_album_df.limit(10))"
   ]
  },
  {
   "cell_type": "code",
   "execution_count": 0,
   "metadata": {
    "application/vnd.databricks.v1+cell": {
     "cellMetadata": {
      "byteLimit": 2048000,
      "implicitDf": true,
      "rowLimit": 10000
     },
     "inputWidgets": {},
     "nuid": "d0de1f32-8989-442b-91f8-ba5309af6d75",
     "showTitle": false,
     "tableResultSettingsMap": {},
     "title": ""
    }
   },
   "outputs": [],
   "source": [
    "%sql\n",
    "select distinct album_number from music.bronze_member_rating"
   ]
  },
  {
   "cell_type": "code",
   "execution_count": 0,
   "metadata": {
    "application/vnd.databricks.v1+cell": {
     "cellMetadata": {
      "byteLimit": 2048000,
      "rowLimit": 10000
     },
     "inputWidgets": {},
     "nuid": "aa2e429f-3cd8-409b-bddb-8d117eaad1d2",
     "showTitle": false,
     "tableResultSettingsMap": {},
     "title": ""
    }
   },
   "outputs": [],
   "source": [
    "bronze_member_rating_df = spark.read.table(\"music.bronze_member_rating\")\n",
    "silver_album_df = spark.read.table(\"music.silver_album\")\n",
    "\n",
    "joined_df = silver_data = bronze_member_rating_df.join(\n",
    "        silver_album_df,\n",
    "        bronze_member_rating_df.album_name == silver_album_df[\"name\"],\n",
    "        \"left\"\n",
    "    )\n",
    "joined_df.count()"
   ]
  },
  {
   "cell_type": "code",
   "execution_count": 0,
   "metadata": {
    "application/vnd.databricks.v1+cell": {
     "cellMetadata": {
      "byteLimit": 2048000,
      "rowLimit": 10000
     },
     "inputWidgets": {},
     "nuid": "73a0cfb8-8ffc-49e9-b5f9-1b2390333576",
     "showTitle": false,
     "tableResultSettingsMap": {},
     "title": ""
    }
   },
   "outputs": [],
   "source": [
    "bronze_member_rating_df = spark.read.table(\"music.bronze_member_rating\")\n",
    "bronze_album_df = spark.read.table(\"music.bronze_album\")\n",
    "\n",
    "missing_albums_df = bronze_member_rating_df.join(\n",
    "    bronze_album_df,\n",
    "    bronze_member_rating_df.album_name == bronze_album_df.album_name,\n",
    "    \"left_anti\"\n",
    ").select(\"album_name\").distinct().orderBy(\"release_year\")\n",
    "\n",
    "display(missing_albums_df)"
   ]
  },
  {
   "cell_type": "code",
   "execution_count": 0,
   "metadata": {
    "application/vnd.databricks.v1+cell": {
     "cellMetadata": {
      "byteLimit": 2048000,
      "implicitDf": true,
      "rowLimit": 10000
     },
     "inputWidgets": {},
     "nuid": "ea9136eb-aed6-4fa7-93a8-f627cd79dd30",
     "showTitle": false,
     "tableResultSettingsMap": {
      "0": {
       "dataGridStateBlob": "{\"version\":1,\"tableState\":{\"columnPinning\":{\"left\":[\"#row_number#\"],\"right\":[]},\"columnSizing\":{\"album_name\":472},\"columnVisibility\":{}},\"settings\":{\"columns\":{}},\"syncTimestamp\":1756590196500}",
       "filterBlob": null,
       "queryPlanFiltersBlob": null,
       "tableResultIndex": 0
      }
     },
     "title": ""
    }
   },
   "outputs": [],
   "source": [
    "%sql\n",
    "select * from music.bronze_album where artist like '%Pearl Jam%'"
   ]
  },
  {
   "cell_type": "code",
   "execution_count": 0,
   "metadata": {
    "application/vnd.databricks.v1+cell": {
     "cellMetadata": {
      "byteLimit": 2048000,
      "rowLimit": 10000
     },
     "inputWidgets": {},
     "nuid": "a69c7b59-6c74-4fcb-9706-c36291b5c7ed",
     "showTitle": false,
     "tableResultSettingsMap": {},
     "title": ""
    }
   },
   "outputs": [],
   "source": [
    "from pyspark.sql.functions import col\n",
    "\n",
    "bronze_member_rating_df = spark.read.table(\"music.bronze_member_rating\")\n",
    "null_album_name = bronze_member_rating_df.filter(col(\"album_name\").isNull())\n",
    "display(null_album_name)"
   ]
  },
  {
   "cell_type": "code",
   "execution_count": 0,
   "metadata": {
    "application/vnd.databricks.v1+cell": {
     "cellMetadata": {
      "byteLimit": 2048000,
      "implicitDf": true,
      "rowLimit": 10000
     },
     "inputWidgets": {},
     "nuid": "5d50a436-7cf0-494a-b17c-298f06fde52d",
     "showTitle": false,
     "tableResultSettingsMap": {},
     "title": ""
    }
   },
   "outputs": [],
   "source": [
    "%sql\n",
    "update music.bronze_member_rating\n",
    "set album_name = 'John Prine'\n",
    "where album_name = 'John Prine \\'71'"
   ]
  },
  {
   "cell_type": "code",
   "execution_count": 0,
   "metadata": {
    "application/vnd.databricks.v1+cell": {
     "cellMetadata": {
      "byteLimit": 2048000,
      "rowLimit": 10000
     },
     "inputWidgets": {},
     "nuid": "59673ea1-e859-4e4f-aaba-c2b742c345cb",
     "showTitle": false,
     "tableResultSettingsMap": {},
     "title": ""
    }
   },
   "outputs": [],
   "source": [
    "    bronze_member_rating_df = spark.read.table(\"music.bronze_member_rating\")\n",
    "    silver_member_df = spark.read.table(\"music.silver_album_club_member\")\n",
    "    silver_album_df = spark.read.table(\"music.silver_album\")\n",
    "\n",
    "    silver_song_df = bronze_member_rating_df.join(\n",
    "        silver_album_df,\n",
    "        bronze_member_rating_df.album_number == silver_album_df.id\n",
    "    ).join(\n",
    "        silver_member_df,\n",
    "        bronze_member_rating_df.member == silver_member_df[\"short_name\"]\n",
    "    ).select(\n",
    "        silver_album_df.artist_id,\n",
    "        silver_album_df.id.alias(\"album_id\"),\n",
    "        silver_member_df.id.alias(\"member_id\"),\n",
    "        bronze_member_rating_df['week_number'],\n",
    "        bronze_member_rating_df['meeting_date'],\n",
    "        bronze_member_rating_df['rating'],\n",
    "        bronze_member_rating_df['favorite_songs'],\n",
    "    )\n",
    "    display(silver_song_df.limit(15))"
   ]
  }
 ],
 "metadata": {
  "application/vnd.databricks.v1+notebook": {
   "computePreferences": null,
   "dashboards": [],
   "environmentMetadata": {
    "base_environment": "",
    "environment_version": "3"
   },
   "inputWidgetPreferences": null,
   "language": "python",
   "notebookMetadata": {
    "mostRecentlyExecutedCommandWithImplicitDF": {
     "commandId": 6876223869584382,
     "dataframes": [
      "_sqldf"
     ]
    },
    "pythonIndentUnit": 4
   },
   "notebookName": "explore_03_making_silver",
   "widgets": {}
  },
  "language_info": {
   "name": "python"
  }
 },
 "nbformat": 4,
 "nbformat_minor": 0
}
